{
 "cells": [
  {
   "cell_type": "markdown",
   "metadata": {},
   "source": [
    "$\\newcommand{\\ket}[1]{\\left|{#1}\\right\\rangle}$\n",
    "$\\newcommand{\\bra}[1]{\\left\\langle{#1}\\right|}$\n",
    "\n",
    "# Quantum instruction glossary\n",
    "\n",
    "Click on a quantum instruction below to view its definition.\n",
    "\n",
    "https://quantum-computing.ibm.com/docs/circ-comp/q-gates\n",
    "\n",
    "<a title=\"Hadamard\" href=\"#H-gate\"><img align=\"left\" width=\"50px\" height=\"50px\" src=\"imgs/h-gate.png\" style=\"margin-right:20px;padding-bottom:10px\"></a>\n",
    "<a title=\"Cx\" href=\"#CX-gate\"><img align=\"left\" width=\"50px\" height=\"50px\" src=\"imgs/cx-gate.png\" style=\"margin-right:20px;padding-bottom:10px\"></a>\n",
    "<a title=\"ID\" href=\"#Id-gate\"><img align=\"left\" width=\"50px\" height=\"50px\" src=\"imgs/identity-gate.png\" style=\"margin-right:20px;padding-bottom:10px\"></a>\n",
    "<a title=\"Rx\" href=\"#Rx-gate\"><img align=\"left\" width=\"50px\" height=\"50px\" src=\"imgs/rx-gate.png\" style=\"margin-right:20px;padding-bottom:10px\"></a>\n",
    "<a title=\"Ry\" href=\"#Ry-gate\"><img align=\"left\" width=\"50px\" height=\"50px\" src=\"imgs/ry-gate.png\" style=\"margin-right:20px;padding-bottom:10px\"></a>\n",
    "<a title=\"Rz\" href=\"#Rz-gate\"><img align=\"left\" width=\"50px\" height=\"50px\" src=\"imgs/rz-gate.png\" style=\"margin-right:20px;padding-bottom:10px\"></a>\n",
    "<a title=\"X-gate\" href=\"#X-gate\"><img align=\"left\" width=\"50px\" height=\"50px\" src=\"imgs/x-gate.png\" style=\"margin-right:20px;padding-bottom:10px\"></a>\n",
    "<a title=\"Y-gate\" href=\"#Y-gate\"><img align=\"left\" width=\"50px\" height=\"50px\" src=\"imgs/y-gate.png\" style=\"margin-right:20px;padding-bottom:10px\"></a>\n",
    "<a title=\"Z-gate\" href=\"#Z-gate\"><img align=\"left\" width=\"50px\" height=\"50px\" src=\"imgs/z-gate.png\" style=\"margin-right:20px;padding-bottom:10px\"></a>\n",
    "<a title=\"S-gate\" href=\"#S-gate\"><img align=\"left\" width=\"50px\" height=\"50px\" src=\"imgs/s-gate.png\" style=\"margin-right:20px;padding-bottom:10px\"></a>\n",
    "<a title=\"Sdg-gate\" href=\"#Sdg-gate\"><img align=\"left\" width=\"50px\" height=\"50px\" src=\"imgs/sdg-gate.png\" style=\"margin-right:20px;padding-bottom:10px\"></a>\n",
    "<a title=\"T-gate\" href=\"#T-gate\"><img align=\"left\" width=\"50px\" height=\"50px\" src=\"imgs/t-gate.png\" style=\"margin-right:20px;padding-bottom:10px\"></a>\n",
    "<a title=\"Tdg-gate\" href=\"#Tdg-gate\"><img align=\"left\" width=\"50px\" height=\"50px\" src=\"imgs/tdg-gate.png\" style=\"margin-right:20px;padding-bottom:10px\"></a>\n",
    "<a title=\"cH-gate\" href=\"#cH-gate\"><img align=\"left\" width=\"50px\" height=\"50px\" src=\"imgs/ch-gate.png\" style=\"margin-right:20px;padding-bottom:10px\"></a>\n",
    "<a title=\"cZ-gate\" href=\"#cZ-gate\"><img align=\"left\" width=\"50px\" height=\"50px\" src=\"imgs/cz-gate.png\" style=\"margin-right:20px;padding-bottom:10px\"></a>\n",
    "<a title=\"cRz-gate\" href=\"#cRz-gate\"><img align=\"left\" width=\"50px\" height=\"50px\" src=\"imgs/crz-gate.png\" style=\"margin-right:20px;padding-bottom:10px\"></a>\n",
    "<a title=\"ccX-gate\" href=\"#ccX-gate\"><img align=\"left\" width=\"50px\" height=\"50px\" src=\"imgs/ccx-gate.png\" style=\"margin-right:20px;padding-bottom:10px\"></a>\n",
    "<a title=\"SWAP-gate\" href=\"#SWAP-gate\"><img align=\"left\" width=\"50px\" height=\"50px\" src=\"imgs/swap-gate.png\" style=\"margin-right:20px;padding-bottom:10px\"></a>\n",
    "<a title=\"Barrier-operation\" href=\"#Barrier-operation\"><img align=\"left\" width=\"50px\" height=\"50px\" src=\"imgs/barrier.png\" style=\"margin-right:20px;padding-bottom:10px\"></a>\n",
    "<a title=\"0-operation\" href=\"#$\\ket{0}$-operation\"><img align=\"left\" width=\"50px\" height=\"50px\" src=\"imgs/0-operation.png\" style=\"margin-right:20px;padding-bottom:10px\"></a>\n",
    "<a title=\"IF-operation\" href=\"#IF-operation\"><img align=\"left\" width=\"50px\" height=\"50px\" src=\"imgs/if-operation.png\" style=\"margin-right:20px;padding-bottom:10px\"></a>\n",
    "<a title=\"z-measurement\" href=\"#z-measurement\"><img align=\"left\" width=\"50px\" height=\"50px\" src=\"imgs/z-measurement.png\" style=\"margin-right:20px;padding-bottom:10px\"></a>\n",
    "<a title=\"U3-gate\" href=\"#U3-gate\"><img align=\"left\" width=\"50px\" height=\"50px\" src=\"imgs/u3-gate.png\" style=\"margin-right:20px;padding-bottom:10px\"></a>\n",
    "<a title=\"U2-gate\" href=\"#U2-gate\"><img align=\"left\" width=\"50px\" height=\"50px\" src=\"imgs/u2-gate.png\" style=\"margin-right:20px;padding-bottom:10px\"></a>\n",
    "<a title=\"U1-gate\" href=\"#U1-gate\"><img align=\"left\" width=\"50px\" height=\"50px\" src=\"imgs/u1-gate.png\" style=\"margin-right:20px;padding-bottom:10px\"></a>"
   ]
  },
  {
   "cell_type": "markdown",
   "metadata": {},
   "source": [
    "## H gate\n",
    "\n",
    "The H or Hadamard gate rotates the states $\\ket{0}$ and $\\ket{1}$ to $\\ket{+}$ and $\\ket{-}$, respectively. It is useful for making superpositions. As a Clifford gate, it is useful for moving information between the x and z bases.\n",
    "\n",
    "| Composer reference        | OpenQASM reference           |  Bloch sphere rotation             |\n",
    "|:-----------------------:  |:--------------------------:  | :---------------------------------:|\n",
    "| ![](imgs/h-gate.png)      | <pre>h q[0];</pre>           | ![](imgs/h-bloch.gif)              |\n",
    "\n",
    "[Go to top](#Quantum-instruction-glossary)"
   ]
  },
  {
   "cell_type": "markdown",
   "metadata": {},
   "source": [
    "## CX gate\n",
    "\n",
    "The controlled-X gate is also known as the controlled-NOT. It acts on a pair of qubits, with one acting as 'control' and the other as ‘target’. It performs an X on the target whenever the control is in state $\\ket{1}$. If the control qubit is in a superposition, this gate creates entanglement.\n",
    "\n",
    "| Composer reference        | OpenQASM reference           |  Bloch sphere rotation             |\n",
    "|:-----------------------:  |:--------------------------:  | :---------------------------------:|\n",
    "| ![](imgs/cx-gate.png)     | <pre>cx q[0], q[1];</pre>    |                                    |\n",
    "\n",
    "[Go to top](#Quantum-instruction-glossary)"
   ]
  },
  {
   "cell_type": "markdown",
   "metadata": {},
   "source": [
    "## Id gate\n",
    "\n",
    "The identity gate is actually the absence of a gate. It ensures that nothing is applied to a qubit for one unit of gate time.\n",
    "\n",
    "| Composer reference        | OpenQASM reference           |  Bloch sphere rotation             |\n",
    "|:-----------------------:  |:--------------------------:  | :---------------------------------:|\n",
    "| ![](imgs/identity-gate.png)      | <pre>id q[0];</pre>          |                                    |\n",
    "\n",
    "[Go to top](#Quantum-instruction-glossary)"
   ]
  },
  {
   "cell_type": "markdown",
   "metadata": {},
   "source": [
    "## Rx gate\n",
    "\n",
    "The Rx gate requires a single parameter: an angle expressed in radians. On the Bloch sphere, this gate corresponds to rotating the qubit state around the x axis by the given angle.\n",
    "\n",
    "| Composer reference        | OpenQASM reference           |  Bloch sphere rotation             |\n",
    "|:-----------------------:  |:--------------------------:  | :---------------------------------:|\n",
    "|![](imgs/rx-gate.png)      | <pre>rx(pi/2) q[0];</pre>    | ![](imgs/rx-bloch.gif)             |\n",
    "\n",
    "[Go to top](#Quantum-instruction-glossary)"
   ]
  },
  {
   "cell_type": "markdown",
   "metadata": {},
   "source": [
    "## Ry gate\n",
    "\n",
    "The Ry gate requires a single parameter: an angle expressed in radians. On the Bloch sphere, this gate corresponds to rotating the qubit state around the y axis by the given angle.\n",
    "\n",
    "| Composer reference        | OpenQASM reference           |  Bloch sphere rotation             |\n",
    "|:-----------------------:  |:--------------------------:  | :---------------------------------:|\n",
    "| ![](imgs/ry-gate.png)     | <pre>ry(pi/2) q[0];</pre>    | ![](imgs/ry-bloch.gif)             |\n",
    "\n",
    "[Go to top](#Quantum-instruction-glossary)"
   ]
  },
  {
   "cell_type": "markdown",
   "metadata": {},
   "source": [
    "## Rz gate\n",
    "\n",
    "The Rz gate requires a single parameter: an angle expressed in radians. On the Bloch sphere, this gate corresponds to rotating the qubit state around the z axis by the given angle.\n",
    "\n",
    "| Composer reference        | OpenQASM reference           |  Bloch sphere rotation             |\n",
    "|:-----------------------:  |:--------------------------:  | :---------------------------------:|\n",
    "| ![](imgs/rz-gate.png)     | <pre>rz(pi/2) q[0];</pre>    | ![](imgs/rz-bloch.gif)             |\n",
    "\n",
    "[Go to top](#Quantum-instruction-glossary)"
   ]
  },
  {
   "cell_type": "markdown",
   "metadata": {},
   "source": [
    "## X gate\n",
    "\n",
    "The Pauli X gate has the property of flipping the state $\\ket{0}$ to $\\ket{1}$, and vice versa. It is equivalent to Rx for the angle $\\pi$.\n",
    "\n",
    "| Composer reference        | OpenQASM reference           |  Bloch sphere rotation             |\n",
    "|:-----------------------:  |:--------------------------:  | :---------------------------------:|\n",
    "| ![](imgs/x-gate.png)      | <pre>x q[0];</pre>           | ![](imgs/x-bloch.gif)              |\n",
    "\n",
    "[Go to top](#Quantum-instruction-glossary)"
   ]
  },
  {
   "cell_type": "markdown",
   "metadata": {},
   "source": [
    "## Y gate\n",
    "\n",
    "The Pauli Y gate is equivalent to Ry for the angle $\\pi$. It is also equivalent to the combined effect of X and Z.\n",
    "\n",
    "| Composer reference        | OpenQASM reference           |  Bloch sphere rotation             |\n",
    "|:-----------------------:  |:--------------------------:  | :---------------------------------:|\n",
    "| ![](imgs/y-gate.png)      | <pre>y q[0];</pre>           | ![](imgs/y-bloch.gif)              |\n",
    "\n",
    "[Go to top](#Quantum-instruction-glossary)"
   ]
  },
  {
   "cell_type": "markdown",
   "metadata": {},
   "source": [
    "## Z gate\n",
    "\n",
    "The Pauli Z gate has the property of flipping the $\\ket{+}$ to $\\ket{-}$, and vice versa. It is equivalent to Rz for the angle $\\pi$.\n",
    "\n",
    "| Composer reference        | OpenQASM reference           |  Bloch sphere rotation             |\n",
    "|:-----------------------:  |:--------------------------:  | :---------------------------------:|\n",
    "| ![](imgs/z-gate.png)      | <pre>z q[0];</pre>           | ![](imgs/z-bloch.gif)              |\n",
    "\n",
    "[Go to top](#Quantum-instruction-glossary)"
   ]
  },
  {
   "cell_type": "markdown",
   "metadata": {},
   "source": [
    "## S gate\n",
    "\n",
    "The S gate is equivalent to Rz for the angle $\\pi/2$. As a Clifford gate, it is useful for moving information between the x and y bases.\n",
    "\n",
    "| Composer reference        | OpenQASM reference           |  Bloch sphere rotation             |\n",
    "|:-----------------------:  |:--------------------------:  | :---------------------------------:|\n",
    "| ![](imgs/s-gate.png)      | <pre>s q[0];</pre>           | ![](imgs/s-bloch.gif)              |\n",
    "\n",
    "[Go to top](#Quantum-instruction-glossary)"
   ]
  },
  {
   "cell_type": "markdown",
   "metadata": {},
   "source": [
    "## Sdg gate\n",
    "\n",
    "The inverse of the S gate. Equivalent to Rz for the angle $-\\pi/2$. As a Clifford gate, it is useful for moving information between the x and y bases.\n",
    "\n",
    "| Composer reference        | OpenQASM reference           |  Bloch sphere rotation             |\n",
    "|:-----------------------:  |:--------------------------:  | :---------------------------------:|\n",
    "| ![](imgs/sdg-gate.png)    | <pre>sdg q[0];</pre>         | ![](imgs/sdg-bloch.gif)              |\n",
    "\n",
    "[Go to top](#Quantum-instruction-glossary)"
   ]
  },
  {
   "cell_type": "markdown",
   "metadata": {},
   "source": [
    "## T gate\n",
    "\n",
    "The T gate is equivalent to Rz for the angle $\\pi/4$. Fault-tolerant quantum computers will compile all quantum programs down to just the T gate and its inverse, as well as the Clifford gates.\n",
    "\n",
    "| Composer reference        | OpenQASM reference           |  Bloch sphere rotation             |\n",
    "|:-----------------------:  |:--------------------------:  | :---------------------------------:|\n",
    "| ![](imgs/t-gate.png)      | <pre>t q[0];</pre>           | ![](imgs/t-bloch.gif)              |\n",
    "\n",
    "[Go to top](#Quantum-instruction-glossary)"
   ]
  },
  {
   "cell_type": "markdown",
   "metadata": {},
   "source": [
    "## Tdg gate\n",
    "\n",
    "The inverse of the T gate, which is equivalent to Rz for the angle $\\pi/4$. Fault-tolerant quantum computers will compile all quantum programs down to just the T gate and its inverse, as well as the Clifford gates.\n",
    "\n",
    "| Composer reference        | OpenQASM reference           |  Bloch sphere rotation             |\n",
    "|:-----------------------:  |:--------------------------:  | :---------------------------------:|\n",
    "| ![](imgs/tdg-gate.png)      | <pre>tdg q[0];</pre>       | ![](imgs/tdg-bloch.gif)            |\n",
    "\n",
    "[Go to top](#Quantum-instruction-glossary)"
   ]
  },
  {
   "cell_type": "markdown",
   "metadata": {},
   "source": [
    "## cH gate\n",
    "\n",
    "The controlled-Hadamard gate, like the controlled-NOT, acts on a control and target qubit. It performs an H on the target whenever the control is in state $\\ket{1}$.\n",
    "\n",
    "| Composer reference        | OpenQASM reference           |  Bloch sphere rotation             |\n",
    "|:-----------------------:  |:--------------------------:  | :---------------------------------:|\n",
    "| ![](imgs/ch-gate.png)     | <pre>ch q[0], q[1];</pre>    |                                    |\n",
    "\n",
    "[Go to top](#Quantum-instruction-glossary)"
   ]
  },
  {
   "cell_type": "markdown",
   "metadata": {},
   "source": [
    "## cZ gate\n",
    "\n",
    "The controlled-Z gate, like the controlled-NOT, acts on a control and target qubit. It performs a Z on the target whenever the control is in state $\\ket{1}$.\n",
    "\n",
    "| Composer reference        | OpenQASM reference           |  Bloch sphere rotation             |\n",
    "|:-----------------------:  |:--------------------------:  | :---------------------------------:|\n",
    "| ![](imgs/cz-gate.png)     | <pre>cz q[0], q[1];</pre>    |                                    |\n",
    "\n",
    "[Go to top](#Quantum-instruction-glossary)"
   ]
  },
  {
   "cell_type": "markdown",
   "metadata": {},
   "source": [
    "## cRz gate\n",
    "\n",
    "The controlled-Rz gate, like the controlled-NOT, acts on a control and target qubit. It performs a Rz rotation on the target whenever the control is in state $\\ket{1}$.\n",
    "\n",
    "| Composer reference        | OpenQASM reference           |  Bloch sphere rotation             |\n",
    "|:-----------------------:  |:--------------------------:  | :---------------------------------:|\n",
    "| ![](imgs/crz-gate.png)    | <pre>crz(pi/2) q[0], q[1];</pre>   |                                    |\n",
    "\n",
    "[Go to top](#Quantum-instruction-glossary)"
   ]
  },
  {
   "cell_type": "markdown",
   "metadata": {},
   "source": [
    "## ccX gate\n",
    "\n",
    "The ccX gate, commonly known as the Toffoli, has two control qubits and one target. At applies an X to the target only when both controls are in state $\\ket{1}$.\n",
    "\n",
    "| Composer reference        | OpenQASM reference           |  Bloch sphere rotation             |\n",
    "|:-----------------------:  |:--------------------------:  | :---------------------------------:|\n",
    "| ![](imgs/ccx-gate.png)    | <pre>ccx q[0], q[1], q[2];</pre>   |                                    |\n",
    "\n",
    "[Go to top](#Quantum-instruction-glossary)"
   ]
  },
  {
   "cell_type": "markdown",
   "metadata": {},
   "source": [
    "## SWAP gate\n",
    "\n",
    "The SWAP gate simply swaps the states of two qubits.\n",
    "\n",
    "| Composer reference        | OpenQASM reference           |  Bloch sphere rotation             |\n",
    "|:-----------------------:  |:--------------------------:  | :---------------------------------:|\n",
    "| ![](imgs/swap-gate.png)   | <pre>swap q[0], q[1];</pre>  |                                    |\n",
    "\n",
    "[Go to top](#Quantum-instruction-glossary)"
   ]
  },
  {
   "cell_type": "markdown",
   "metadata": {},
   "source": [
    "## Barrier operation\n",
    "\n",
    "To make your quantum program more efficient, the compiler will try to combine gates. The barrier is an instruction to the compiler to prevent these combinations being made.\n",
    "\n",
    "| Composer reference        | OpenQASM reference           |  Bloch sphere rotation             |\n",
    "|:-----------------------:  |:--------------------------:  | :---------------------------------:|\n",
    "| ![](imgs/barrier.png)     | <pre>barrier q;</pre>        |                                    |\n",
    "\n",
    "[Go to top](#Quantum-instruction-glossary)"
   ]
  },
  {
   "cell_type": "markdown",
   "metadata": {},
   "source": [
    "## $\\ket{0}$ operation\n",
    "\n",
    "The reset operation returns a qubit to state $\\ket{0}$, irrespective of its state before the operation was applied. It is not a reversible operation.\n",
    "\n",
    "| Composer reference        | OpenQASM reference           |  Bloch sphere rotation             |\n",
    "|:-----------------------:  |:--------------------------:  | :---------------------------------:|\n",
    "| ![](imgs/0-operation.png)      | <pre>reset q[0];</pre>       |                                    |\n",
    "\n",
    "[Go to top](#Quantum-instruction-glossary)"
   ]
  },
  {
   "cell_type": "markdown",
   "metadata": {},
   "source": [
    "## IF operation\n",
    "\n",
    "The IF operation allows quantum gates to be conditionally applied, depending on the state of a classical register.\n",
    "\n",
    "| Composer reference        | OpenQASM reference           |  Bloch sphere rotation             |\n",
    "|:-----------------------:  |:--------------------------:  | :---------------------------------:|\n",
    "| ![](imgs/if-operation.png)| <pre>if (c==0) x q[0];</pre> |                                    |\n",
    "\n",
    "[Go to top](#Quantum-instruction-glossary)"
   ]
  },
  {
   "cell_type": "markdown",
   "metadata": {},
   "source": [
    "## z measurement\n",
    "\n",
    "Measurement in the standard basis, also known as the z basis or computational basis. Can be used to implement any kind of measurement when combined with gates. It is not a reversible operation.\n",
    "\n",
    "| Composer reference        | OpenQASM reference           |  Bloch sphere rotation             |\n",
    "|:-----------------------:  |:--------------------------:  | :---------------------------------:|\n",
    "| ![](imgs/z-measurement.png)| <pre>measure q[0];</pre>    |                                    |\n",
    "\n",
    "[Go to top](#Quantum-instruction-glossary)"
   ]
  },
  {
   "cell_type": "markdown",
   "metadata": {},
   "source": [
    "## U3 gate\n",
    "\n",
    "The three parameters allow the construction of any single qubit gate. Has a duration of one unit of gate time.\n",
    "\n",
    "| Composer reference        | OpenQASM reference           |  Bloch sphere rotation             |\n",
    "|:-----------------------:  |:--------------------------:  | :---------------------------------:|\n",
    "|![](imgs/u3-gate.png)      | <pre>u3(pi/2,pi/2,pi/2) q[0];</pre>    | ![](imgs/u3-bloch.gif)   |\n",
    "\n",
    "[Go to top](#Quantum-instruction-glossary)"
   ]
  },
  {
   "cell_type": "markdown",
   "metadata": {},
   "source": [
    "## U2 gate\n",
    "\n",
    "The two parameters control two different rotations within the gate. Has a duration of one unit of gate time.\n",
    "\n",
    "| Composer reference        | OpenQASM reference           |  Bloch sphere rotation             |\n",
    "|:-----------------------:  |:--------------------------:  | :---------------------------------:|\n",
    "|![](imgs/u2-gate.png)      | <pre>u2(pi/2,pi/2,pi/2) q[0];</pre>    | ![](imgs/u2-bloch.gif)   |\n",
    "\n",
    "[Go to top](#Quantum-instruction-glossary)"
   ]
  },
  {
   "cell_type": "markdown",
   "metadata": {},
   "source": [
    "## U1 gate\n",
    "\n",
    "Equivalent to Rz. This can be implemented by the control software, requiring no actual manipulation of the qubits, and so effectively has a duration of zero.\n",
    "\n",
    "| Composer reference        | OpenQASM reference           |  Bloch sphere rotation             |\n",
    "|:-----------------------:  |:--------------------------:  | :---------------------------------:|\n",
    "|![](imgs/u1-gate.png)      | <pre>u1(pi/2,pi/2,pi/2) q[0];</pre>    | ![](imgs/u2-bloch.gif)   |\n",
    "\n",
    "[Go to top](#Quantum-instruction-glossary)"
   ]
  },
  {
   "cell_type": "code",
   "execution_count": null,
   "metadata": {},
   "outputs": [],
   "source": []
  }
 ],
 "metadata": {
  "kernelspec": {
   "display_name": "Python 3",
   "language": "python",
   "name": "python3"
  },
  "language_info": {
   "codemirror_mode": {
    "name": "ipython",
    "version": 3
   },
   "file_extension": ".py",
   "mimetype": "text/x-python",
   "name": "python",
   "nbconvert_exporter": "python",
   "pygments_lexer": "ipython3",
   "version": "3.8.2"
  }
 },
 "nbformat": 4,
 "nbformat_minor": 4
}
