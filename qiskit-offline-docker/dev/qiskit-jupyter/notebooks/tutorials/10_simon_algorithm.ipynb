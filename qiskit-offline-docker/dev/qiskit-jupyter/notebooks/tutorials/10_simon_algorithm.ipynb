{
 "cells": [
  {
   "cell_type": "markdown",
   "metadata": {},
   "source": [
    " # Simon's Algorithm"
   ]
  },
  {
   "cell_type": "markdown",
   "metadata": {},
   "source": [
    "Simon's algorithm was the first quantum algorithm to show an exponential speed-up versus the best classical algorithm in solving a specific problem. This inspired the quantum algorithm for the discrete Fourier transform, also known as quantum Fourier transform, which is used in the most famous quantum algorithm: Shor's factoring algorithm.\n",
    "\n",
    "https://qiskit.org/textbook/ch-algorithms/simon.html"
   ]
  },
  {
   "cell_type": "code",
   "execution_count": null,
   "metadata": {},
   "outputs": [],
   "source": [
    "## #initialization\n",
    "%matplotlib inline\n",
    "%config InlineBackend.figure_format = 'svg' # Makes the images look nice\n",
    "\n",
    "# importing Qiskit\n",
    "from qiskit import IBMQ, BasicAer\n",
    "from qiskit.providers.ibmq import least_busy\n",
    "from qiskit import QuantumCircuit, execute\n",
    "\n",
    "# import basic plot tools\n",
    "from qiskit.visualization import plot_histogram"
   ]
  },
  {
   "cell_type": "code",
   "execution_count": null,
   "metadata": {},
   "outputs": [],
   "source": [
    "s = '11'"
   ]
  },
  {
   "cell_type": "code",
   "execution_count": null,
   "metadata": {},
   "outputs": [],
   "source": [
    "# Creating registers\n",
    "# qubits and classical bits for querying the oracle and finding the hidden period s\n",
    "n = 2*len(str(s))\n",
    "simonCircuit = QuantumCircuit(n)\n",
    "barriers = True\n",
    "\n",
    "# Apply Hadamard gates before querying the oracle\n",
    "simonCircuit.h(range(len(str(s))))    \n",
    "    \n",
    "# Apply barrier \n",
    "if barriers:\n",
    "    simonCircuit.barrier()\n",
    "\n",
    "# Apply the query function\n",
    "## 2-qubit oracle for s = 11\n",
    "simonCircuit.cx(0, len(str(s)) + 0)\n",
    "simonCircuit.cx(0, len(str(s)) + 1)\n",
    "simonCircuit.cx(1, len(str(s)) + 0)\n",
    "simonCircuit.cx(1, len(str(s)) + 1)  \n",
    "\n",
    "# Apply barrier \n",
    "if barriers:\n",
    "    simonCircuit.barrier()\n",
    "\n",
    "# Apply Hadamard gates to the input register\n",
    "simonCircuit.h(range(len(str(s))))\n",
    "\n",
    "# Measure ancilla qubits\n",
    "simonCircuit.measure_all()"
   ]
  },
  {
   "cell_type": "code",
   "execution_count": null,
   "metadata": {},
   "outputs": [],
   "source": [
    "simonCircuit.draw(output='mpl')"
   ]
  },
  {
   "cell_type": "code",
   "execution_count": null,
   "metadata": {},
   "outputs": [],
   "source": [
    "# use local simulator\n",
    "backend = BasicAer.get_backend('qasm_simulator')\n",
    "shots = 1024\n",
    "results = execute(simonCircuit, backend=backend, shots=shots).result()\n",
    "answer = results.get_counts()\n",
    "\n",
    "# Categorize measurements by input register values\n",
    "answer_plot = {}\n",
    "for measresult in answer.keys():\n",
    "    measresult_input = measresult[len(str(s)):]\n",
    "    if measresult_input in answer_plot:\n",
    "        answer_plot[measresult_input] += answer[measresult]\n",
    "    else:\n",
    "        answer_plot[measresult_input] = answer[measresult] \n",
    "\n",
    "# Plot the categorized results\n",
    "print( answer_plot )\n",
    "plot_histogram(answer_plot)"
   ]
  },
  {
   "cell_type": "code",
   "execution_count": null,
   "metadata": {},
   "outputs": [],
   "source": [
    "# Calculate the dot product of the results\n",
    "def sdotz(a, b):\n",
    "    accum = 0\n",
    "    for i in range(len(a)):\n",
    "        accum += int(a[i]) * int(b[i])\n",
    "    return (accum % 2)\n",
    "\n",
    "print('s, z, s.z (mod 2)')\n",
    "for z_rev in answer_plot:\n",
    "    z = z_rev[::-1]\n",
    "    print( '{}, {}, {}.{}={}'.format(s, z, s,z,sdotz(s,z)) )"
   ]
  },
  {
   "cell_type": "code",
   "execution_count": null,
   "metadata": {},
   "outputs": [],
   "source": [
    "# Load our saved IBMQ accounts and get the least busy backend device with less than or equal to 5 qubits\n",
    "IBMQ.load_account()\n",
    "\n",
    "provider = IBMQ.get_provider(hub='ibm-q')\n",
    "provider.backends()\n",
    "backend = least_busy(provider.backends(filters=lambda x: x.configuration().n_qubits >= n and \n",
    "                                   not x.configuration().simulator and x.status().operational==True))\n",
    "\n",
    "print(\"least busy backend: \", backend)"
   ]
  },
  {
   "cell_type": "code",
   "execution_count": null,
   "metadata": {},
   "outputs": [],
   "source": [
    "# Run our circuit on the least busy backend. Monitor the execution of the job in the queue\n",
    "from qiskit.tools.monitor import job_monitor\n",
    "\n",
    "shots = 1024\n",
    "job = execute(simonCircuit, backend=backend, shots=shots)\n",
    "\n",
    "job_monitor(job, interval = 2)"
   ]
  },
  {
   "cell_type": "code",
   "execution_count": null,
   "metadata": {},
   "outputs": [],
   "source": [
    "# Categorize measurements by input register values\n",
    "answer_plot = {}\n",
    "for measresult in answer.keys():\n",
    "    measresult_input = measresult[len(str(s)):]\n",
    "    if measresult_input in answer_plot:\n",
    "        answer_plot[measresult_input] += answer[measresult]\n",
    "    else:\n",
    "        answer_plot[measresult_input] = answer[measresult] \n",
    "\n",
    "# Plot the categorized results\n",
    "print( answer_plot )\n",
    "plot_histogram(answer_plot)"
   ]
  },
  {
   "cell_type": "code",
   "execution_count": null,
   "metadata": {},
   "outputs": [],
   "source": [
    "# Calculate the dot product of the most significant results\n",
    "print('s, z, s.z (mod 2)')\n",
    "for z_rev in answer_plot:\n",
    "    if answer_plot[z_rev] >= 0.1*shots:\n",
    "        z = z_rev[::-1]\n",
    "        print( '{}, {}, {}.{}={}'.format(s, z, s,z,sdotz(s,z)) )"
   ]
  },
  {
   "cell_type": "code",
   "execution_count": null,
   "metadata": {},
   "outputs": [],
   "source": []
  }
 ],
 "metadata": {
  "kernelspec": {
   "display_name": "Python 3",
   "language": "python",
   "name": "python3"
  },
  "language_info": {
   "codemirror_mode": {
    "name": "ipython",
    "version": 3
   },
   "file_extension": ".py",
   "mimetype": "text/x-python",
   "name": "python",
   "nbconvert_exporter": "python",
   "pygments_lexer": "ipython3",
   "version": "3.8.2"
  }
 },
 "nbformat": 4,
 "nbformat_minor": 4
}
