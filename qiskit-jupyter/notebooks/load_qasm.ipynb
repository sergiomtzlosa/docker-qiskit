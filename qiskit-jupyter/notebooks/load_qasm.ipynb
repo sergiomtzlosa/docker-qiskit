{
 "cells": [
  {
   "cell_type": "code",
   "execution_count": 2,
   "id": "c15b1795",
   "metadata": {},
   "outputs": [],
   "source": [
    "from qiskit import QuantumCircuit, Aer, execute"
   ]
  },
  {
   "cell_type": "code",
   "execution_count": 3,
   "id": "4c059047",
   "metadata": {},
   "outputs": [
    {
     "data": {
      "image/png": "[encoded data removed]",
      "text/plain": [
       "<Figure size 327.252x204.68 with 1 Axes>"
      ]
     },
     "execution_count": 3,
     "metadata": {},
     "output_type": "execute_result"
    }
   ],
   "source": [
    "qasm_str = \"\"\"OPENQASM 2.0;\n",
    "include \"qelib1.inc\";\n",
    "qreg q[2];\n",
    "creg c[2];\n",
    "h q[0];\n",
    "cx q[0],q[1];\n",
    "measure q -> c;\n",
    "\"\"\"\n",
    "\n",
    "# From str.\n",
    "qc = QuantumCircuit.from_qasm_str(qasm_str)\n",
    "\n",
    "qc.draw(output='mpl')"
   ]
  },
  {
   "cell_type": "code",
   "execution_count": 4,
   "id": "1eef3c2d",
   "metadata": {},
   "outputs": [
    {
     "name": "stdout",
     "output_type": "stream",
     "text": [
      "{'00': 506, '11': 518}\n"
     ]
    }
   ],
   "source": [
    "backend = Aer.get_backend(\"qasm_simulator\")\n",
    "\n",
    "# Execute the circuit and show the result.\n",
    "job = execute(qc, backend)\n",
    "result = job.result()\n",
    "print(result.get_counts())"
   ]
  },
  {
   "cell_type": "code",
   "execution_count": 5,
   "id": "3f48fe19",
   "metadata": {},
   "outputs": [
    {
     "data": {
      "image/png": "[encoded data removed]",
      "text/plain": [
       "<Figure size 327.252x204.68 with 1 Axes>"
      ]
     },
     "execution_count": 5,
     "metadata": {},
     "output_type": "execute_result"
    }
   ],
   "source": [
    "# from file\n",
    "qc = QuantumCircuit.from_qasm_file(\"entanglement.qasm\")\n",
    "\n",
    "qc.draw(output='mpl', style='iqx')"
   ]
  },
  {
   "cell_type": "code",
   "execution_count": 6,
   "id": "16350029",
   "metadata": {},
   "outputs": [
    {
     "name": "stdout",
     "output_type": "stream",
     "text": [
      "{'11': 477, '00': 547}\n"
     ]
    }
   ],
   "source": [
    "backend = Aer.get_backend(\"qasm_simulator\")\n",
    "\n",
    "# Execute the circuit and show the result.\n",
    "job = execute(qc, backend)\n",
    "result = job.result()\n",
    "print(result.get_counts())"
   ]
  },
  {
   "cell_type": "code",
   "execution_count": 7,
   "id": "dab52c45",
   "metadata": {},
   "outputs": [
    {
     "data": {
      "image/png": "[encoded data removed]",
      "text/plain": [
       "<Figure size 327.252x204.68 with 1 Axes>"
      ]
     },
     "execution_count": 7,
     "metadata": {},
     "output_type": "execute_result"
    }
   ],
   "source": [
    "from qiskit.tools.visualization import circuit_drawer\n",
    "\n",
    "circuit_drawer(qc, output='mpl', plot_barriers=False)"
   ]
  },
  {
   "cell_type": "code",
   "execution_count": 12,
   "id": "e204e690",
   "metadata": {},
   "outputs": [
    {
     "name": "stdout",
     "output_type": "stream",
     "text": [
      "\u001b[92mOPENQASM\u001b[39m \u001b[96m2\u001b[39m.\u001b[96m0\u001b[39m;\n",
      "\u001b[92minclude\u001b[39m\u001b[91m \"qelib1.inc\"\u001b[39m;\n",
      "\u001b[92mqreg\u001b[39m q[\u001b[96m2\u001b[39m];\n",
      "\u001b[92mcreg\u001b[39m c[\u001b[96m2\u001b[39m];\n",
      "\u001b[95mh\u001b[39m q[\u001b[96m0\u001b[39m];\n",
      "\u001b[95mcx\u001b[39m q[\u001b[96m0\u001b[39m],q[\u001b[96m1\u001b[39m];\n",
      "\u001b[94mmeasure\u001b[39m q[\u001b[96m0\u001b[39m] -> c[\u001b[96m0\u001b[39m];\n",
      "\u001b[94mmeasure\u001b[39m q[\u001b[96m1\u001b[39m] -> c[\u001b[96m1\u001b[39m];\n",
      "\n"
     ]
    }
   ],
   "source": [
    "qc.qasm(formatted=True)"
   ]
  },
  {
   "cell_type": "code",
   "execution_count": null,
   "id": "4883b08e",
   "metadata": {},
   "outputs": [],
   "source": []
  }
 ],
 "metadata": {
  "kernelspec": {
   "display_name": "Python 3",
   "language": "python",
   "name": "python3"
  },
  "language_info": {
   "codemirror_mode": {
    "name": "ipython",
    "version": 3
   },
   "file_extension": ".py",
   "mimetype": "text/x-python",
   "name": "python",
   "nbconvert_exporter": "python",
   "pygments_lexer": "ipython3",
   "version": "3.8.2"
  }
 },
 "nbformat": 4,
 "nbformat_minor": 5
}
