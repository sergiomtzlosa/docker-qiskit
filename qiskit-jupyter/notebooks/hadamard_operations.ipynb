{
 "cells": [
  {
   "cell_type": "markdown",
   "metadata": {},
   "source": [
    "# Hadamard operations"
   ]
  },
  {
   "cell_type": "markdown",
   "metadata": {},
   "source": [
    "$\\newcommand{\\ket}[1]{\\left|{#1}\\right\\rangle}$ \n",
    "$\\newcommand{\\bra}[1]{\\left\\langle{#1}\\right|}$\n",
    "$\\newcommand{\\braket}[2]{\\left\\langle{#1}\\middle|{#2}\\right\\rangle}$\n",
    "$\\newcommand{\\fract}[2]{\\frac{#1}{#2}}$\n",
    " \n",
    "$\\newcommand{\\matrixbraket}[2]{\n",
    "\t\\begin{pmatrix}\n",
    "\t\t#1 \\\\\n",
    "\t\t#2 \\\\\n",
    "\t\\end{pmatrix}\n",
    "}$\n",
    "\n",
    "$\\large\\ket{0} = \\matrixbraket{1}{0}$\n",
    "\t\n",
    "$\\large\\ket{1} = \\matrixbraket{0}{1}$\n",
    "\n",
    "$\\large\\textit{H}\\left(\\ket{0}\\right) = \\fract{1}{\\sqrt{2}}\\ket{0} + \\fract{1}{\\sqrt{2}}\\ket{1} =: \\ket{+}$\n",
    "\n",
    "$\\large\\textit{H}\\left(\\ket{1}\\right) = \\fract{1}{\\sqrt{2}}\\ket{0} - \\fract{1}{\\sqrt{2}}\\ket{1} =: \\ket{-}$\n",
    "\n",
    "$\\large\\textit{H}\\left(\\fract{1}{\\sqrt{2}}\\ket{0} + \\fract{1}{\\sqrt{2}}\\ket{1}\\right) = \\fract{1}{2}\\left(\\ket{0} + \\ket{1}\\right) + \\fract{1}{2}\\left(\\ket{0} - \\ket{1}\\right) = \\ket{0}$\n",
    "\n",
    "$\\large\\textit{H}\\left(\\fract{1}{\\sqrt{2}}\\ket{0} - \\fract{1}{\\sqrt{2}}\\ket{1}\\right) = \\fract{1}{2}\\left(\\ket{0} + \\ket{1}\\right) - \\fract{1}{2}\\left(\\ket{0} - \\ket{1}\\right) = \\ket{1}$"
   ]
  },
  {
   "cell_type": "code",
   "execution_count": null,
   "metadata": {},
   "outputs": [],
   "source": []
  }
 ],
 "metadata": {
  "kernelspec": {
   "display_name": "Python 3",
   "language": "python",
   "name": "python3"
  },
  "language_info": {
   "codemirror_mode": {
    "name": "ipython",
    "version": 3
   },
   "file_extension": ".py",
   "mimetype": "text/x-python",
   "name": "python",
   "nbconvert_exporter": "python",
   "pygments_lexer": "ipython3",
   "version": "3.8.2"
  }
 },
 "nbformat": 4,
 "nbformat_minor": 4
}
