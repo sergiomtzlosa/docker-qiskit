{
 "cells": [
  {
   "cell_type": "code",
   "execution_count": 1,
   "id": "d3546083",
   "metadata": {},
   "outputs": [],
   "source": [
    "from qiskit import QuantumCircuit, QuantumRegister, ClassicalRegister, Aer, execute\n",
    "from qiskit.quantum_info import Statevector\n",
    "import quantum_imaging as qi\n",
    "import quantum_drawer as qd\n",
    "from IPython.display import Image\n",
    "import numpy as np\n",
    "%matplotlib inline"
   ]
  },
  {
   "cell_type": "code",
   "execution_count": 2,
   "id": "f21e87c3",
   "metadata": {},
   "outputs": [
    {
     "data": {
      "image/jpeg": "[encoded data removed]",
      "text/plain": [
       "<IPython.core.display.Image object>"
      ]
     },
     "execution_count": 2,
     "metadata": {},
     "output_type": "execute_result"
    }
   ],
   "source": [
    "Image('mario.jpg')"
   ]
  },
  {
   "cell_type": "code",
   "execution_count": 6,
   "id": "6aad22a4",
   "metadata": {},
   "outputs": [
    {
     "data": {
      "image/png": "[encoded data removed]",
      "text/plain": [
       "<PIL.Image.Image image mode=L size=236x295 at 0x7FCCF8BF4940>"
      ]
     },
     "execution_count": 6,
     "metadata": {},
     "output_type": "execute_result"
    }
   ],
   "source": [
    "image_mario = qi.convert_to_bw(\"mario.jpg\")\n",
    "qi.image_from_array(image_mario)"
   ]
  },
  {
   "cell_type": "code",
   "execution_count": 34,
   "id": "9c2021ec",
   "metadata": {},
   "outputs": [
    {
     "data": {
      "text/plain": [
       "(295, 236)"
      ]
     },
     "execution_count": 34,
     "metadata": {},
     "output_type": "execute_result"
    }
   ],
   "source": [
    "image_mario.shape"
   ]
  },
  {
   "cell_type": "code",
   "execution_count": 35,
   "id": "91c375d8",
   "metadata": {},
   "outputs": [
    {
     "data": {
      "image/png": "[encoded data removed]",
      "text/plain": [
       "<PIL.Image.Image image mode=L size=32x32 at 0x7FCC923FB070>"
      ]
     },
     "execution_count": 35,
     "metadata": {},
     "output_type": "execute_result"
    }
   ],
   "source": [
    "resized_image_mario = qi.resize_array(image_mario, size=(32, 32))\n",
    "qi.image_from_array(resized_image_mario)"
   ]
  },
  {
   "cell_type": "code",
   "execution_count": 36,
   "id": "1fb8eeed",
   "metadata": {},
   "outputs": [],
   "source": [
    "array_binary_mario = qi.binary_encode(resized_image_mario)\n",
    "qi.save_bin_array_to_csv('mario_test.csv', array_binary_mario)"
   ]
  },
  {
   "cell_type": "code",
   "execution_count": 37,
   "id": "0abb7a77",
   "metadata": {},
   "outputs": [
    {
     "data": {
      "image/png": "[encoded data removed]",
      "text/plain": [
       "<PIL.Image.Image image mode=L size=160x160 at 0x7FCCAAEDAA90>"
      ]
     },
     "execution_count": 37,
     "metadata": {},
     "output_type": "execute_result"
    }
   ],
   "source": [
    "scaled_image = qi.scale_binary_image(resized_image_mario, 5)\n",
    "qi.image_from_array(scaled_image)"
   ]
  },
  {
   "cell_type": "code",
   "execution_count": 38,
   "id": "2882e618",
   "metadata": {},
   "outputs": [],
   "source": [
    "# Simulator\n",
    "qasm_sim = Aer.get_backend(\"aer_simulator\")\n",
    "\n",
    "# Number of circuit qubits\n",
    "n_qubits = 7"
   ]
  },
  {
   "cell_type": "code",
   "execution_count": 39,
   "id": "fd8bf2b5",
   "metadata": {},
   "outputs": [],
   "source": [
    "binary_data_array = qi.load_bin_array_from_csv('mario_test.csv')\n",
    "\n",
    "cols_items = binary_data_array.shape[1]\n",
    "splitting = qd.splitting_chunks(cols_items, n_qubits)"
   ]
  },
  {
   "cell_type": "code",
   "execution_count": 40,
   "id": "49063bde",
   "metadata": {},
   "outputs": [
    {
     "data": {
      "text/plain": [
       "(32, 32)"
      ]
     },
     "execution_count": 40,
     "metadata": {},
     "output_type": "execute_result"
    }
   ],
   "source": [
    "rework_image = qd.rebuild_image_quantum_enhance_onerun(binary_data_array, splitting, n_qubits, qasm_sim)\n",
    "rework_image.shape"
   ]
  },
  {
   "cell_type": "code",
   "execution_count": 41,
   "id": "4257276a",
   "metadata": {},
   "outputs": [
    {
     "data": {
      "image/png": "[encoded data removed]",
      "text/plain": [
       "<PIL.Image.Image image mode=L size=160x160 at 0x7FCC99F89820>"
      ]
     },
     "execution_count": 41,
     "metadata": {},
     "output_type": "execute_result"
    }
   ],
   "source": [
    "rebuild_data = qi.rebuild_binary_array(rework_image)\n",
    "#qi.image_from_array(rebuild_data)\n",
    "scaled_image = qi.scale_binary_image(rebuild_data, 5)\n",
    "final_image = qi.image_from_array(scaled_image)\n",
    "final_image"
   ]
  },
  {
   "cell_type": "code",
   "execution_count": 42,
   "id": "1b21130e",
   "metadata": {},
   "outputs": [],
   "source": [
    "qi.save_image_to_jpg(final_image, 'mario_test.png')"
   ]
  },
  {
   "cell_type": "markdown",
   "id": "d602e70c",
   "metadata": {},
   "source": [
    "# REAL QUANTUM COMPUTER"
   ]
  },
  {
   "cell_type": "code",
   "execution_count": 43,
   "id": "ec6e06e1",
   "metadata": {},
   "outputs": [],
   "source": [
    "from qiskit import IBMQ\n",
    "from qiskit.providers.ibmq import least_busy\n",
    "import qiskit.tools.jupyter"
   ]
  },
  {
   "cell_type": "code",
   "execution_count": 44,
   "id": "cc935ec8",
   "metadata": {},
   "outputs": [
    {
     "data": {
      "text/plain": [
       "<AccountProvider for IBMQ(hub='ibm-q-csic', group='internal', project='main')>"
      ]
     },
     "execution_count": 44,
     "metadata": {},
     "output_type": "execute_result"
    }
   ],
   "source": [
    "if not IBMQ.active_account():\n",
    "    IBMQ.load_account()\n",
    "\n",
    "all_providers = IBMQ.providers()\n",
    "\n",
    "provider = all_providers[1] #IBMQ.get_provider(hub='ibm-q', group='open', project='main')\n",
    "provider"
   ]
  },
  {
   "cell_type": "code",
   "execution_count": 45,
   "id": "f2016482",
   "metadata": {},
   "outputs": [
    {
     "data": {
      "application/vnd.jupyter.widget-view+json": {
       "model_id": "effd75adbecd490ea6e5bf72b82f15c1",
       "version_major": 2,
       "version_minor": 0
      },
      "text/plain": [
       "VBox(children=(HTML(value=\"<h2 style ='color:#ffffff; background-color:#000000;padding-top: 1%; padding-bottom…"
      ]
     },
     "metadata": {},
     "output_type": "display_data"
    }
   ],
   "source": [
    "%qiskit_backend_overview"
   ]
  },
  {
   "cell_type": "code",
   "execution_count": 46,
   "id": "6567deeb",
   "metadata": {},
   "outputs": [
    {
     "data": {
      "application/vnd.jupyter.widget-view+json": {
       "model_id": "0e419e7281e54f6688940cfde6a0cbb6",
       "version_major": 2,
       "version_minor": 0
      },
      "text/plain": [
       "VBox(children=(HTML(value=\"<h1 style='color:#ffffff;background-color:#000000;padding-top: 1%;padding-bottom: 1…"
      ]
     },
     "metadata": {},
     "output_type": "display_data"
    },
    {
     "data": {
      "text/plain": [
       "<IBMQBackend('ibmq_casablanca') from IBMQ(hub='ibm-q-csic', group='internal', project='main')>"
      ]
     },
     "execution_count": 46,
     "metadata": {},
     "output_type": "execute_result"
    }
   ],
   "source": [
    "backend = least_busy(provider.backends(filters=lambda b: b.configuration().n_qubits >= n_qubits and b.status().operational and not b.configuration().simulator))\n",
    "backend"
   ]
  },
  {
   "cell_type": "code",
   "execution_count": 47,
   "id": "03fb63f8",
   "metadata": {},
   "outputs": [
    {
     "data": {
      "application/vnd.jupyter.widget-view+json": {
       "model_id": "",
       "version_major": 2,
       "version_minor": 0
      },
      "text/plain": [
       "Accordion(children=(VBox(layout=Layout(max_width='710px', min_width='710px')),), layout=Layout(max_height='500…"
      ]
     },
     "metadata": {},
     "output_type": "display_data"
    },
    {
     "data": {
      "application/javascript": [
       "$('div.job_widget')\n",
       "        .detach()\n",
       "        .appendTo($('#header'))\n",
       "        .css({\n",
       "            'z-index': 999,\n",
       "             'position': 'fixed',\n",
       "            'box-shadow': '5px 5px 5px -3px black',\n",
       "            'opacity': 0.95,\n",
       "            'float': 'left,'\n",
       "        })\n",
       "        "
      ],
      "text/plain": [
       "<IPython.core.display.Javascript object>"
      ]
     },
     "metadata": {},
     "output_type": "display_data"
    }
   ],
   "source": [
    "%qiskit_job_watcher"
   ]
  },
  {
   "cell_type": "code",
   "execution_count": 48,
   "id": "aebf78d6",
   "metadata": {},
   "outputs": [
    {
     "data": {
      "text/plain": [
       "(32, 32)"
      ]
     },
     "execution_count": 48,
     "metadata": {},
     "output_type": "execute_result"
    }
   ],
   "source": [
    "binary_data_array = qi.load_bin_array_from_csv('mario_test.csv')\n",
    "\n",
    "cols_items = binary_data_array.shape[1]\n",
    "splitting = qd.splitting_chunks(cols_items, n_qubits)\n",
    "\n",
    "rework_image = qd.rebuild_image_quantum_enhance_onerun(binary_data_array, splitting, n_qubits, backend, num_shots = 1)\n",
    "rework_image.shape"
   ]
  },
  {
   "cell_type": "code",
   "execution_count": 49,
   "id": "cc802fd4",
   "metadata": {},
   "outputs": [],
   "source": [
    "%qiskit_disable_job_watcher"
   ]
  },
  {
   "cell_type": "code",
   "execution_count": 50,
   "id": "37d99a65",
   "metadata": {},
   "outputs": [
    {
     "data": {
      "image/png": "[encoded data removed]",
      "text/plain": [
       "<PIL.Image.Image image mode=L size=320x320 at 0x7FCC88179EB0>"
      ]
     },
     "execution_count": 50,
     "metadata": {},
     "output_type": "execute_result"
    }
   ],
   "source": [
    "rebuild_data = qi.rebuild_binary_array(rework_image)\n",
    "#qi.image_from_array(rebuild_data)\n",
    "scaled_image = qi.scale_binary_image(rebuild_data, 10)\n",
    "qi.image_from_array(scaled_image)"
   ]
  },
  {
   "cell_type": "code",
   "execution_count": 51,
   "id": "d9ffa255",
   "metadata": {},
   "outputs": [
    {
     "data": {
      "image/png": "[encoded data removed]",
      "text/plain": [
       "<PIL.Image.Image image mode=L size=320x320 at 0x7FCC881699A0>"
      ]
     },
     "execution_count": 51,
     "metadata": {},
     "output_type": "execute_result"
    }
   ],
   "source": [
    "inverted = qi.invert_data(scaled_image)\n",
    "final_image = qi.image_from_array(inverted)\n",
    "final_image"
   ]
  },
  {
   "cell_type": "code",
   "execution_count": 52,
   "id": "c19fbcb9",
   "metadata": {},
   "outputs": [],
   "source": [
    "qi.save_image_to_jpg(final_image, 'mario_test_qc.png')"
   ]
  },
  {
   "cell_type": "code",
   "execution_count": 53,
   "id": "d8a3dc89",
   "metadata": {},
   "outputs": [],
   "source": [
    "array_binary_ibmq = qi.binary_encode(scaled_image)\n",
    "qi.save_bin_array_to_csv('mario_test_ibmq.csv', array_binary_ibmq)"
   ]
  },
  {
   "cell_type": "code",
   "execution_count": 54,
   "id": "e2030df5",
   "metadata": {},
   "outputs": [
    {
     "data": {
      "text/html": [
       "<h3>Version Information</h3><table><tr><th>Qiskit Software</th><th>Version</th></tr><tr><td>Qiskit</td><td>0.26.2</td></tr><tr><td>Terra</td><td>0.17.4</td></tr><tr><td>Aer</td><td>0.8.2</td></tr><tr><td>Ignis</td><td>0.6.0</td></tr><tr><td>Aqua</td><td>0.9.1</td></tr><tr><td>IBM Q Provider</td><td>0.13.1</td></tr><tr><th>System information</th></tr><tr><td>Python</td><td>3.8.2 (default, Apr 23 2020, 14:22:33) \n",
       "[GCC 8.3.0]</td></tr><tr><td>OS</td><td>Linux</td></tr><tr><td>CPUs</td><td>4</td></tr><tr><td>Memory (Gb)</td><td>7.4343719482421875</td></tr><tr><td colspan='2'>Sun Nov 21 22:23:41 2021 GMT</td></tr></table>"
      ],
      "text/plain": [
       "<IPython.core.display.HTML object>"
      ]
     },
     "metadata": {},
     "output_type": "display_data"
    }
   ],
   "source": [
    "import qiskit.tools.jupyter\n",
    "%qiskit_version_table"
   ]
  },
  {
   "cell_type": "code",
   "execution_count": null,
   "id": "38bd531c",
   "metadata": {},
   "outputs": [],
   "source": []
  }
 ],
 "metadata": {
  "kernelspec": {
   "display_name": "Python 3",
   "language": "python",
   "name": "python3"
  },
  "language_info": {
   "codemirror_mode": {
    "name": "ipython",
    "version": 3
   },
   "file_extension": ".py",
   "mimetype": "text/x-python",
   "name": "python",
   "nbconvert_exporter": "python",
   "pygments_lexer": "ipython3",
   "version": "3.8.2"
  }
 },
 "nbformat": 4,
 "nbformat_minor": 5
}
