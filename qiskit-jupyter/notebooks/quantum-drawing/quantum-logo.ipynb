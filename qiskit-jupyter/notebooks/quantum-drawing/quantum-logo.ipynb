{
 "cells": [
  {
   "cell_type": "code",
   "execution_count": 1,
   "id": "037641b4",
   "metadata": {},
   "outputs": [],
   "source": [
    "import quantum_drawer as qd\n",
    "import quantum_imaging as qi\n",
    "\n",
    "%matplotlib inline"
   ]
  },
  {
   "cell_type": "code",
   "execution_count": 2,
   "id": "158e89b0",
   "metadata": {},
   "outputs": [
    {
     "data": {
      "image/png": "[encoded data removed]",
      "text/plain": [
       "<PIL.Image.Image image mode=L size=225x225 at 0x1A4F1E9C8E0>"
      ]
     },
     "execution_count": 2,
     "metadata": {},
     "output_type": "execute_result"
    }
   ],
   "source": [
    "image_logo = qi.convert_to_bw(\"logo-ibm.png\")\n",
    "qi.image_from_array(image_logo)"
   ]
  },
  {
   "cell_type": "code",
   "execution_count": 16,
   "id": "8c7806ae",
   "metadata": {},
   "outputs": [
    {
     "data": {
      "image/png": "[encoded data removed]",
      "text/plain": [
       "<PIL.Image.Image image mode=L size=32x32 at 0x1A56AEB6910>"
      ]
     },
     "execution_count": 16,
     "metadata": {},
     "output_type": "execute_result"
    }
   ],
   "source": [
    "resized_image_logo = qi.resize_array(image_logo, size=(32, 32))\n",
    "qi.image_from_array(resized_image_logo)"
   ]
  },
  {
   "cell_type": "code",
   "execution_count": 31,
   "id": "043baddc",
   "metadata": {},
   "outputs": [],
   "source": [
    "array_binary_logo = qi.binary_encode(resized_image_logo)\n",
    "qi.save_bin_array_to_csv('quantum_ibm_logo.csv', array_binary_logo)"
   ]
  },
  {
   "cell_type": "code",
   "execution_count": 32,
   "id": "8b05f2eb",
   "metadata": {},
   "outputs": [
    {
     "data": {
      "image/png": "[encoded data removed]",
      "text/plain": [
       "<PIL.Image.Image image mode=L size=320x320 at 0x1A56EE44F40>"
      ]
     },
     "execution_count": 32,
     "metadata": {},
     "output_type": "execute_result"
    }
   ],
   "source": [
    "scaled_image_sim = qi.scale_binary_image(resized_image_logo, 10)\n",
    "qi.image_from_array(scaled_image_sim)"
   ]
  },
  {
   "cell_type": "markdown",
   "id": "800c1596",
   "metadata": {},
   "source": [
    "# Use one-hot encoding drawing file to create a Quantum circuit and rebuild the image with the circuit result"
   ]
  },
  {
   "cell_type": "markdown",
   "id": "355841b4",
   "metadata": {},
   "source": [
    "# Only support square images (i.e: 32x32px, 64x64px)"
   ]
  },
  {
   "cell_type": "code",
   "execution_count": 2,
   "id": "a0a0bf5d",
   "metadata": {},
   "outputs": [],
   "source": [
    "# Simulator\n",
    "qasm_sim = qd.get_quantum_simulator_backend(\"aer_simulator\")\n",
    "\n",
    "# Number of circuit qubits\n",
    "n_qubits = 5"
   ]
  },
  {
   "cell_type": "code",
   "execution_count": 3,
   "id": "6ce6e0cb",
   "metadata": {},
   "outputs": [
    {
     "data": {
      "text/plain": [
       "(32, 32)"
      ]
     },
     "execution_count": 3,
     "metadata": {},
     "output_type": "execute_result"
    }
   ],
   "source": [
    "binary_data_array = qi.load_bin_array_from_csv('quantum_ibm_logo.csv')\n",
    "\n",
    "cols_items = binary_data_array.shape[1]\n",
    "splitting = qd.splitting_chunks(cols_items, n_qubits)\n",
    "\n",
    "rework_image = qd.rebuild_image_quantum_enhance_onerun(binary_data_array, splitting, n_qubits, qasm_sim)\n",
    "rework_image.shape"
   ]
  },
  {
   "cell_type": "code",
   "execution_count": 4,
   "id": "3e2c0d8d",
   "metadata": {},
   "outputs": [
    {
     "data": {
      "image/png": "[encoded data removed]",
      "text/plain": [
       "<PIL.Image.Image image mode=L size=320x320 at 0x7F1B87BDA3D0>"
      ]
     },
     "execution_count": 4,
     "metadata": {},
     "output_type": "execute_result"
    }
   ],
   "source": [
    "rebuild_data = qi.rebuild_binary_array(rework_image)\n",
    "#qi.image_from_array(rebuild_data)\n",
    "scaled_image = qi.scale_binary_image(rebuild_data, 10)\n",
    "qi.image_from_array(scaled_image)"
   ]
  },
  {
   "cell_type": "markdown",
   "id": "6c04b5d6",
   "metadata": {},
   "source": [
    "# Sending circuit to real quantum computer"
   ]
  },
  {
   "cell_type": "code",
   "execution_count": 5,
   "id": "65b1b64b",
   "metadata": {},
   "outputs": [],
   "source": [
    "from qiskit import IBMQ\n",
    "from qiskit.providers.ibmq import least_busy\n",
    "import qiskit.tools.jupyter"
   ]
  },
  {
   "cell_type": "code",
   "execution_count": 6,
   "id": "914eb064",
   "metadata": {},
   "outputs": [],
   "source": [
    "if not IBMQ.active_account():\n",
    "    IBMQ.load_account()\n",
    "\n",
    "all_providers = IBMQ.providers()\n",
    "\n",
    "provider = all_providers[0] #IBMQ.get_provider(hub='ibm-q', group='open', project='main')"
   ]
  },
  {
   "cell_type": "code",
   "execution_count": 7,
   "id": "cfbb467e",
   "metadata": {},
   "outputs": [
    {
     "data": {
      "application/vnd.jupyter.widget-view+json": {
       "model_id": "4a7bf02079e84c9f868156dbae39cdad",
       "version_major": 2,
       "version_minor": 0
      },
      "text/plain": [
       "VBox(children=(HTML(value=\"<h2 style ='color:#ffffff; background-color:#000000;padding-top: 1%; padding-bottom…"
      ]
     },
     "metadata": {},
     "output_type": "display_data"
    }
   ],
   "source": [
    "%qiskit_backend_overview"
   ]
  },
  {
   "cell_type": "code",
   "execution_count": 8,
   "id": "866fcebe",
   "metadata": {},
   "outputs": [],
   "source": [
    "backend = least_busy(provider.backends(filters=lambda b: b.configuration().n_qubits >= n_qubits and b.status().operational and not b.configuration().simulator))"
   ]
  },
  {
   "cell_type": "code",
   "execution_count": 9,
   "id": "3a07e43d",
   "metadata": {},
   "outputs": [
    {
     "data": {
      "application/vnd.jupyter.widget-view+json": {
       "model_id": "20a289ef5a2146469a21d2055ab37a77",
       "version_major": 2,
       "version_minor": 0
      },
      "text/plain": [
       "VBox(children=(HTML(value=\"<h1 style='color:#ffffff;background-color:#000000;padding-top: 1%;padding-bottom: 1…"
      ]
     },
     "metadata": {},
     "output_type": "display_data"
    },
    {
     "data": {
      "text/plain": [
       "<IBMQBackend('ibmqx2') from IBMQ(hub='ibm-q', group='open', project='main')>"
      ]
     },
     "execution_count": 9,
     "metadata": {},
     "output_type": "execute_result"
    }
   ],
   "source": [
    "backend"
   ]
  },
  {
   "cell_type": "code",
   "execution_count": 10,
   "id": "cf888671",
   "metadata": {},
   "outputs": [
    {
     "data": {
      "application/vnd.jupyter.widget-view+json": {
       "model_id": "",
       "version_major": 2,
       "version_minor": 0
      },
      "text/plain": [
       "Accordion(children=(VBox(layout=Layout(max_width='710px', min_width='710px')),), layout=Layout(max_height='500…"
      ]
     },
     "metadata": {},
     "output_type": "display_data"
    },
    {
     "data": {
      "application/javascript": [
       "$('div.job_widget')\n",
       "        .detach()\n",
       "        .appendTo($('#header'))\n",
       "        .css({\n",
       "            'z-index': 999,\n",
       "             'position': 'fixed',\n",
       "            'box-shadow': '5px 5px 5px -3px black',\n",
       "            'opacity': 0.95,\n",
       "            'float': 'left,'\n",
       "        })\n",
       "        "
      ],
      "text/plain": [
       "<IPython.core.display.Javascript object>"
      ]
     },
     "metadata": {},
     "output_type": "display_data"
    }
   ],
   "source": [
    "%qiskit_job_watcher"
   ]
  },
  {
   "cell_type": "code",
   "execution_count": 11,
   "id": "a1cb133e",
   "metadata": {},
   "outputs": [
    {
     "data": {
      "text/plain": [
       "(32, 32)"
      ]
     },
     "execution_count": 11,
     "metadata": {},
     "output_type": "execute_result"
    }
   ],
   "source": [
    "binary_data_array = qi.load_bin_array_from_csv('quantum_ibm_logo.csv')\n",
    "\n",
    "cols_items = binary_data_array.shape[1]\n",
    "splitting = qd.splitting_chunks(cols_items, n_qubits)\n",
    "\n",
    "rework_image = qd.rebuild_image_quantum_enhance_onerun(binary_data_array, splitting, n_qubits, backend, num_shots = 1024)\n",
    "rework_image.shape"
   ]
  },
  {
   "cell_type": "code",
   "execution_count": 12,
   "id": "5b21db4a",
   "metadata": {},
   "outputs": [],
   "source": [
    "%qiskit_disable_job_watcher"
   ]
  },
  {
   "cell_type": "code",
   "execution_count": 16,
   "id": "442a57ae",
   "metadata": {},
   "outputs": [
    {
     "data": {
      "image/png": "[encoded data removed]",
      "text/plain": [
       "<PIL.Image.Image image mode=L size=320x320 at 0x7F1B24715FA0>"
      ]
     },
     "execution_count": 16,
     "metadata": {},
     "output_type": "execute_result"
    }
   ],
   "source": [
    "rebuild_data = qi.rebuild_binary_array(rework_image)\n",
    "#qi.image_from_array(rebuild_data)\n",
    "scaled_image = qi.scale_binary_image(rebuild_data, 10)\n",
    "qi.image_from_array(scaled_image)"
   ]
  },
  {
   "cell_type": "code",
   "execution_count": 17,
   "id": "a7ffab60",
   "metadata": {},
   "outputs": [],
   "source": [
    "qi.save_image_file('quantum_ibm_logo.jpg', scaled_image)"
   ]
  },
  {
   "cell_type": "code",
   "execution_count": 18,
   "id": "fca47fa7",
   "metadata": {},
   "outputs": [],
   "source": [
    "qi.save_bin_array_to_csv('quantum_realm_ibm_logo.csv', rework_image)"
   ]
  },
  {
   "cell_type": "code",
   "execution_count": null,
   "id": "9a50d15d",
   "metadata": {},
   "outputs": [],
   "source": []
  }
 ],
 "metadata": {
  "kernelspec": {
   "display_name": "Python 3",
   "language": "python",
   "name": "python3"
  },
  "language_info": {
   "codemirror_mode": {
    "name": "ipython",
    "version": 3
   },
   "file_extension": ".py",
   "mimetype": "text/x-python",
   "name": "python",
   "nbconvert_exporter": "python",
   "pygments_lexer": "ipython3",
   "version": "3.8.2"
  }
 },
 "nbformat": 4,
 "nbformat_minor": 5
}
