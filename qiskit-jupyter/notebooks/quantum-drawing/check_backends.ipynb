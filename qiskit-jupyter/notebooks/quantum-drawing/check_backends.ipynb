{
 "cells": [
  {
   "cell_type": "code",
   "execution_count": null,
   "id": "da264e82",
   "metadata": {},
   "outputs": [],
   "source": [
    "from qiskit import IBMQ\n",
    "from qiskit.providers.ibmq import least_busy\n",
    "import qiskit.tools.jupyter"
   ]
  },
  {
   "cell_type": "code",
   "execution_count": null,
   "id": "3d18257a",
   "metadata": {},
   "outputs": [],
   "source": [
    "if not IBMQ.active_account():\n",
    "    IBMQ.load_account()\n",
    "\n",
    "all_providers = IBMQ.providers()\n",
    "\n",
    "provider = all_providers[1] #IBMQ.get_provider(hub='ibm-q', group='open', project='main')\n",
    "provider"
   ]
  },
  {
   "cell_type": "code",
   "execution_count": null,
   "id": "be6bc895",
   "metadata": {},
   "outputs": [],
   "source": [
    "%qiskit_backend_overview"
   ]
  },
  {
   "cell_type": "code",
   "execution_count": null,
   "id": "ed1040e2",
   "metadata": {},
   "outputs": [],
   "source": []
  }
 ],
 "metadata": {
  "kernelspec": {
   "display_name": "Python 3",
   "language": "python",
   "name": "python3"
  },
  "language_info": {
   "codemirror_mode": {
    "name": "ipython",
    "version": 3
   },
   "file_extension": ".py",
   "mimetype": "text/x-python",
   "name": "python",
   "nbconvert_exporter": "python",
   "pygments_lexer": "ipython3",
   "version": "3.8.2"
  }
 },
 "nbformat": 4,
 "nbformat_minor": 5
}
