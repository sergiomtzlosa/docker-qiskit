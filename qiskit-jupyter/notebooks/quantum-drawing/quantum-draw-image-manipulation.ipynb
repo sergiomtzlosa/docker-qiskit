{
 "cells": [
  {
   "cell_type": "code",
   "execution_count": 1,
   "id": "0ed3722b",
   "metadata": {},
   "outputs": [],
   "source": [
    "from PIL import Image\n",
    "import cv2\n",
    "import numpy as np\n",
    "import scipy.ndimage\n",
    "import matplotlib.pyplot as plt\n",
    "%matplotlib inline"
   ]
  },
  {
   "cell_type": "code",
   "execution_count": 2,
   "id": "878e42e5",
   "metadata": {},
   "outputs": [],
   "source": [
    "def show_image(img_array):\n",
    "    \n",
    "    plt.imshow(img_array, cmap=plt.cm.gray, interpolation=\"nearest\")\n",
    "    plt.show()\n",
    "    \n",
    "def convert_to_bw(image_path):\n",
    "    \n",
    "    img_grey = cv2.imread(image_path, cv2.IMREAD_GRAYSCALE)\n",
    "\n",
    "    # define a threshold, 128 is the middle of black and white in grey scale\n",
    "    thresh = 128\n",
    "\n",
    "    # threshold the image\n",
    "    img_binary = cv2.threshold(img_grey, thresh, 255, cv2.THRESH_BINARY)[1]\n",
    "    \n",
    "    return img_binary\n",
    "\n",
    "def resize_array(image, size=(128,128)):\n",
    "    \n",
    "    resized = cv2.resize(image, size, cv2.INTER_LINEAR)\n",
    "    \n",
    "    return resized\n",
    "\n",
    "def image_from_array(array_data):\n",
    "\n",
    "    image = Image.fromarray(array_data, mode='L')\n",
    "    \n",
    "    return image\n",
    "\n",
    "def binary_encode(array):\n",
    "    \n",
    "    encoded_array = np.array(array / int(255), dtype='uint8')\n",
    "    \n",
    "    return encoded_array\n",
    "\n",
    "def rebuild_binary_array(array_binary):\n",
    "    \n",
    "    rebuild_array = array_binary*255\n",
    "    \n",
    "    return rebuild_array\n",
    "\n",
    "def scale_binary_image(array_data, factor_scale):\n",
    "    \n",
    "    rescaled = scipy.ndimage.zoom(array_data, zoom = factor_scale, order=0)\n",
    "    \n",
    "    return rescaled\n",
    "\n",
    "def save_bin_array_to_csv(file_path, array_binary):\n",
    "    return np.savetxt(file_path, array_binary, delimiter=',', fmt='%d')\n",
    "\n",
    "def load_bin_array_from_csv(file_path):\n",
    "    return np.loadtxt(file_path, delimiter=',', dtype='uint8')"
   ]
  },
  {
   "cell_type": "code",
   "execution_count": 3,
   "id": "de4d3831",
   "metadata": {},
   "outputs": [
    {
     "data": {
      "image/png": "[encoded data removed]",
      "text/plain": [
       "<PIL.Image.Image image mode=L size=236x295 at 0x7EFDD7A92FD0>"
      ]
     },
     "execution_count": 3,
     "metadata": {},
     "output_type": "execute_result"
    }
   ],
   "source": [
    "image = convert_to_bw(\"mario.jpg\")\n",
    "#image = convert_to_bw(\"doge.png\")\n",
    "image_from_array(image)"
   ]
  },
  {
   "cell_type": "code",
   "execution_count": 4,
   "id": "8788a141",
   "metadata": {},
   "outputs": [
    {
     "name": "stdout",
     "output_type": "stream",
     "text": [
      "[[255 255 255 ... 255 255 255]\n",
      " [255 255 255 ... 255 255 255]\n",
      " [255 255 255 ... 255 255 255]\n",
      " ...\n",
      " [255 255 255 ... 255 255 255]\n",
      " [255 255 255 ... 255 255 255]\n",
      " [255 255 255 ... 255 255 255]]\n"
     ]
    }
   ],
   "source": [
    "print(image)"
   ]
  },
  {
   "cell_type": "code",
   "execution_count": 5,
   "id": "47cb6e9d",
   "metadata": {},
   "outputs": [
    {
     "name": "stdout",
     "output_type": "stream",
     "text": [
      "(295, 236)\n"
     ]
    }
   ],
   "source": [
    "print(image.shape)"
   ]
  },
  {
   "cell_type": "code",
   "execution_count": 24,
   "id": "f72d09b5",
   "metadata": {},
   "outputs": [],
   "source": [
    "resized = resize_array(image, size=(64,64))"
   ]
  },
  {
   "cell_type": "code",
   "execution_count": 25,
   "id": "4f6b1a51",
   "metadata": {},
   "outputs": [
    {
     "name": "stdout",
     "output_type": "stream",
     "text": [
      "(64, 64)\n"
     ]
    }
   ],
   "source": [
    "print(resized.shape)"
   ]
  },
  {
   "cell_type": "code",
   "execution_count": 26,
   "id": "fb03d6d8",
   "metadata": {},
   "outputs": [
    {
     "data": {
      "image/png": "[encoded data removed]",
      "text/plain": [
       "<PIL.Image.Image image mode=L size=64x64 at 0x7EFDD774ED00>"
      ]
     },
     "execution_count": 26,
     "metadata": {},
     "output_type": "execute_result"
    }
   ],
   "source": [
    "image_from_array(resized)"
   ]
  },
  {
   "cell_type": "code",
   "execution_count": 27,
   "id": "2774bc9e",
   "metadata": {},
   "outputs": [],
   "source": [
    "upscaled = resize_array(resized, size=(256,256))"
   ]
  },
  {
   "cell_type": "code",
   "execution_count": 28,
   "id": "ce0af8da",
   "metadata": {},
   "outputs": [
    {
     "data": {
      "text/plain": [
       "array([[255, 255, 255, ..., 255, 255, 255],\n",
       "       [255, 255, 255, ..., 255, 255, 255],\n",
       "       [255, 255, 255, ..., 255, 255, 255],\n",
       "       ...,\n",
       "       [255, 255, 255, ..., 255, 255, 255],\n",
       "       [255, 255, 255, ..., 255, 255, 255],\n",
       "       [255, 255, 255, ..., 255, 255, 255]], dtype=uint8)"
      ]
     },
     "execution_count": 28,
     "metadata": {},
     "output_type": "execute_result"
    }
   ],
   "source": [
    "upscaled"
   ]
  },
  {
   "cell_type": "code",
   "execution_count": 29,
   "id": "404d6b4e",
   "metadata": {},
   "outputs": [
    {
     "data": {
      "image/png": "[encoded data removed]",
      "text/plain": [
       "<PIL.Image.Image image mode=L size=64x64 at 0x7EFDD77C4B80>"
      ]
     },
     "execution_count": 29,
     "metadata": {},
     "output_type": "execute_result"
    }
   ],
   "source": [
    "image_from_array(resized)"
   ]
  },
  {
   "cell_type": "code",
   "execution_count": 30,
   "id": "440da4b2",
   "metadata": {},
   "outputs": [],
   "source": [
    "array_binary = binary_encode(resized)\n",
    "rebuild_array = rebuild_binary_array(array_binary)"
   ]
  },
  {
   "cell_type": "code",
   "execution_count": 31,
   "id": "d32b5345",
   "metadata": {},
   "outputs": [
    {
     "data": {
      "image/png": "[encoded data removed]",
      "text/plain": [
       "<PIL.Image.Image image mode=L size=64x64 at 0x7EFDD77C41F0>"
      ]
     },
     "execution_count": 31,
     "metadata": {},
     "output_type": "execute_result"
    }
   ],
   "source": [
    "image_from_array(rebuild_array)"
   ]
  },
  {
   "cell_type": "code",
   "execution_count": 32,
   "id": "891825e2",
   "metadata": {},
   "outputs": [
    {
     "data": {
      "text/plain": [
       "(64, 64)"
      ]
     },
     "execution_count": 32,
     "metadata": {},
     "output_type": "execute_result"
    }
   ],
   "source": [
    "array_binary.shape"
   ]
  },
  {
   "cell_type": "code",
   "execution_count": 33,
   "id": "de379ebe",
   "metadata": {},
   "outputs": [],
   "source": [
    "rescaled2 = scale_binary_image(rebuild_array, 10)"
   ]
  },
  {
   "cell_type": "code",
   "execution_count": 34,
   "id": "335b970a",
   "metadata": {},
   "outputs": [
    {
     "data": {
      "image/png": "[encoded data removed]",
      "text/plain": [
       "<PIL.Image.Image image mode=L size=640x640 at 0x7EFDD77C49A0>"
      ]
     },
     "execution_count": 34,
     "metadata": {},
     "output_type": "execute_result"
    }
   ],
   "source": [
    "image_from_array(rescaled2)"
   ]
  },
  {
   "cell_type": "code",
   "execution_count": 35,
   "id": "bad14bfa",
   "metadata": {},
   "outputs": [
    {
     "data": {
      "image/png": "[encoded data removed]",
      "text/plain": [
       "<Figure size 432x288 with 1 Axes>"
      ]
     },
     "metadata": {
      "needs_background": "light"
     },
     "output_type": "display_data"
    }
   ],
   "source": [
    "show_image(rescaled2)"
   ]
  },
  {
   "cell_type": "code",
   "execution_count": 36,
   "id": "1ade9a5d",
   "metadata": {},
   "outputs": [],
   "source": [
    "save_bin_array_to_csv('mario.csv', array_binary)"
   ]
  },
  {
   "cell_type": "code",
   "execution_count": 37,
   "id": "873b39dd",
   "metadata": {},
   "outputs": [],
   "source": [
    "loaded_data = load_bin_array_from_csv('mario.csv')"
   ]
  },
  {
   "cell_type": "code",
   "execution_count": 38,
   "id": "317806d5",
   "metadata": {},
   "outputs": [],
   "source": [
    "recovered_data = rebuild_binary_array(loaded_data)"
   ]
  },
  {
   "cell_type": "code",
   "execution_count": 39,
   "id": "9317b386",
   "metadata": {},
   "outputs": [
    {
     "data": {
      "text/plain": [
       "array([[255, 255, 255, ..., 255, 255, 255],\n",
       "       [255, 255, 255, ..., 255, 255, 255],\n",
       "       [255, 255, 255, ..., 255, 255, 255],\n",
       "       ...,\n",
       "       [255, 255, 255, ..., 255, 255, 255],\n",
       "       [255, 255, 255, ..., 255, 255, 255],\n",
       "       [255, 255, 255, ..., 255, 255, 255]], dtype=uint8)"
      ]
     },
     "execution_count": 39,
     "metadata": {},
     "output_type": "execute_result"
    }
   ],
   "source": [
    "recovered_data"
   ]
  },
  {
   "cell_type": "code",
   "execution_count": 40,
   "id": "d77af3f2",
   "metadata": {},
   "outputs": [
    {
     "data": {
      "text/plain": [
       "(64, 64)"
      ]
     },
     "execution_count": 40,
     "metadata": {},
     "output_type": "execute_result"
    }
   ],
   "source": [
    "recovered_data.shape"
   ]
  },
  {
   "cell_type": "code",
   "execution_count": 41,
   "id": "a4880a13",
   "metadata": {},
   "outputs": [
    {
     "data": {
      "image/png": "[encoded data removed]",
      "text/plain": [
       "<PIL.Image.Image image mode=L size=64x64 at 0x7EFDD56853A0>"
      ]
     },
     "execution_count": 41,
     "metadata": {},
     "output_type": "execute_result"
    }
   ],
   "source": [
    "image_from_array(recovered_data)"
   ]
  },
  {
   "cell_type": "code",
   "execution_count": null,
   "id": "e3d136f0",
   "metadata": {},
   "outputs": [],
   "source": []
  }
 ],
 "metadata": {
  "kernelspec": {
   "display_name": "Python 3",
   "language": "python",
   "name": "python3"
  },
  "language_info": {
   "codemirror_mode": {
    "name": "ipython",
    "version": 3
   },
   "file_extension": ".py",
   "mimetype": "text/x-python",
   "name": "python",
   "nbconvert_exporter": "python",
   "pygments_lexer": "ipython3",
   "version": "3.8.2"
  }
 },
 "nbformat": 4,
 "nbformat_minor": 5
}
