{
 "cells": [
  {
   "cell_type": "code",
   "execution_count": 1,
   "id": "037641b4",
   "metadata": {},
   "outputs": [],
   "source": [
    "from qiskit import QuantumCircuit, QuantumRegister, ClassicalRegister, Aer, execute\n",
    "from qiskit.quantum_info import Statevector\n",
    "import quantum_imaging as qi\n",
    "import numpy as np\n",
    "%matplotlib inline"
   ]
  },
  {
   "cell_type": "code",
   "execution_count": 2,
   "id": "158e89b0",
   "metadata": {},
   "outputs": [
    {
     "data": {
      "image/png": "[encoded data removed]",
      "text/plain": [
       "<PIL.Image.Image image mode=L size=512x512 at 0x7F5A2ED59340>"
      ]
     },
     "execution_count": 2,
     "metadata": {},
     "output_type": "execute_result"
    }
   ],
   "source": [
    "image_doge = qi.convert_to_bw(\"doge.png\") # WoW ! *Much* quantum! *very* doge!\n",
    "qi.image_from_array(image_doge)"
   ]
  },
  {
   "cell_type": "code",
   "execution_count": 3,
   "id": "8c7806ae",
   "metadata": {},
   "outputs": [
    {
     "data": {
      "image/png": "[encoded data removed]",
      "text/plain": [
       "<PIL.Image.Image image mode=L size=64x64 at 0x7F5A22F56460>"
      ]
     },
     "execution_count": 3,
     "metadata": {},
     "output_type": "execute_result"
    }
   ],
   "source": [
    "resized_image_doge = qi.resize_array(image_doge, size=(64, 64))\n",
    "qi.image_from_array(resized_image_doge)"
   ]
  },
  {
   "cell_type": "code",
   "execution_count": 4,
   "id": "f29c4ded",
   "metadata": {},
   "outputs": [],
   "source": [
    "array_binary_doge = qi.binary_encode(resized_image_doge)\n",
    "qi.save_bin_array_to_csv('doge.csv', array_binary_doge)"
   ]
  },
  {
   "cell_type": "code",
   "execution_count": 5,
   "id": "6cc6a54e",
   "metadata": {},
   "outputs": [
    {
     "data": {
      "image/png": "[encoded data removed]",
      "text/plain": [
       "<PIL.Image.Image image mode=L size=236x295 at 0x7F5A68FD77F0>"
      ]
     },
     "execution_count": 5,
     "metadata": {},
     "output_type": "execute_result"
    }
   ],
   "source": [
    "image = qi.convert_to_bw(\"mario.jpg\")\n",
    "qi.image_from_array(image)"
   ]
  },
  {
   "cell_type": "code",
   "execution_count": 6,
   "id": "03c531cb",
   "metadata": {},
   "outputs": [
    {
     "data": {
      "text/plain": [
       "(295, 236)"
      ]
     },
     "execution_count": 6,
     "metadata": {},
     "output_type": "execute_result"
    }
   ],
   "source": [
    "image.shape"
   ]
  },
  {
   "cell_type": "code",
   "execution_count": 7,
   "id": "e24d35b4",
   "metadata": {},
   "outputs": [
    {
     "data": {
      "image/png": "[encoded data removed]",
      "text/plain": [
       "<PIL.Image.Image image mode=L size=64x64 at 0x7F5A22EED0A0>"
      ]
     },
     "execution_count": 7,
     "metadata": {},
     "output_type": "execute_result"
    }
   ],
   "source": [
    "resized_image = qi.resize_array(image, size=(64, 64))\n",
    "qi.image_from_array(resized_image)"
   ]
  },
  {
   "cell_type": "code",
   "execution_count": 8,
   "id": "c824f260",
   "metadata": {},
   "outputs": [],
   "source": [
    "array_binary = qi.binary_encode(resized_image)\n",
    "qi.save_bin_array_to_csv('mario.csv', array_binary)"
   ]
  },
  {
   "cell_type": "code",
   "execution_count": 9,
   "id": "29d7d29f",
   "metadata": {},
   "outputs": [],
   "source": [
    "#binary_data_array = qi.load_bin_array_from_csv('doge.csv')\n",
    "binary_data_array = qi.load_bin_array_from_csv('mario.csv')"
   ]
  },
  {
   "cell_type": "code",
   "execution_count": 10,
   "id": "f1a6247f",
   "metadata": {},
   "outputs": [
    {
     "data": {
      "text/plain": [
       "(64, 64)"
      ]
     },
     "execution_count": 10,
     "metadata": {},
     "output_type": "execute_result"
    }
   ],
   "source": [
    "binary_data_array.shape"
   ]
  },
  {
   "cell_type": "code",
   "execution_count": 11,
   "id": "115fa6e7",
   "metadata": {},
   "outputs": [
    {
     "data": {
      "text/plain": [
       "array([1, 1, 1, 1, 1, 1, 1, 1, 1, 1, 1, 1, 1, 1, 1, 1, 1, 1, 1, 1, 1, 1,\n",
       "       1, 1, 1, 1, 1, 1, 1, 0, 0, 0, 0, 0, 0, 0, 0, 0, 0, 0, 1, 1, 1, 1,\n",
       "       1, 1, 1, 1, 1, 1, 1, 1, 1, 1, 1, 1, 1, 1, 1, 1, 1, 1, 1, 1],\n",
       "      dtype=uint8)"
      ]
     },
     "execution_count": 11,
     "metadata": {},
     "output_type": "execute_result"
    }
   ],
   "source": [
    "binary_data_array[2]"
   ]
  },
  {
   "cell_type": "code",
   "execution_count": 12,
   "id": "c27ce346",
   "metadata": {},
   "outputs": [
    {
     "data": {
      "text/plain": [
       "array([[1, 1, 1, ..., 1, 1, 1],\n",
       "       [1, 1, 1, ..., 1, 1, 1],\n",
       "       [1, 1, 1, ..., 1, 1, 1],\n",
       "       ...,\n",
       "       [1, 1, 1, ..., 1, 1, 1],\n",
       "       [1, 1, 1, ..., 1, 1, 1],\n",
       "       [1, 1, 1, ..., 1, 1, 1]], dtype=uint8)"
      ]
     },
     "execution_count": 12,
     "metadata": {},
     "output_type": "execute_result"
    }
   ],
   "source": [
    "binary_data_array"
   ]
  },
  {
   "cell_type": "code",
   "execution_count": 13,
   "id": "770dd9d1",
   "metadata": {},
   "outputs": [
    {
     "data": {
      "text/plain": [
       "(64, 64)"
      ]
     },
     "execution_count": 13,
     "metadata": {},
     "output_type": "execute_result"
    }
   ],
   "source": [
    "binary_data_array.shape"
   ]
  },
  {
   "cell_type": "code",
   "execution_count": 14,
   "id": "d635fd18",
   "metadata": {},
   "outputs": [
    {
     "data": {
      "image/png": "[encoded data removed]",
      "text/plain": [
       "<PIL.Image.Image image mode=L size=64x64 at 0x7F5A22EED970>"
      ]
     },
     "execution_count": 14,
     "metadata": {},
     "output_type": "execute_result"
    }
   ],
   "source": [
    "rebuild_data = qi.rebuild_binary_array(binary_data_array)\n",
    "qi.image_from_array(rebuild_data)"
   ]
  },
  {
   "cell_type": "markdown",
   "id": "800c1596",
   "metadata": {},
   "source": [
    "# Use one-hot encoding drawing file to create a Quantum circuit and rebuild the image with the circuit result"
   ]
  },
  {
   "cell_type": "markdown",
   "id": "355841b4",
   "metadata": {},
   "source": [
    "# Only support square images (i.e: 32x32px, 64x64px)"
   ]
  },
  {
   "cell_type": "code",
   "execution_count": 15,
   "id": "646d23fd",
   "metadata": {
    "scrolled": true
   },
   "outputs": [],
   "source": [
    "n_qubits = 5\n",
    "\n",
    "cr = ClassicalRegister(n_qubits, \"c0\")\n",
    "qr = QuantumRegister(n_qubits, \"q0\")\n",
    "\n",
    "base_circuit = QuantumCircuit(qr, cr)\n",
    "\n",
    "base_circuit.initialize(Statevector.from_label('1'*n_qubits).data, range(n_qubits));\n",
    "\n",
    "#[base_circuit.initialize([0, 1], i) for i in range(n_qubits)];"
   ]
  },
  {
   "cell_type": "code",
   "execution_count": 16,
   "id": "771844d1",
   "metadata": {},
   "outputs": [],
   "source": [
    "# Simulator\n",
    "qasm_sim = Aer.get_backend(\"aer_simulator\")"
   ]
  },
  {
   "cell_type": "code",
   "execution_count": 17,
   "id": "df41b033",
   "metadata": {},
   "outputs": [],
   "source": [
    "row_items = binary_data_array.shape[1]\n",
    "chunk_split = n_qubits\n",
    "\n",
    "splitting = int(row_items / chunk_split) + (1 if int(row_items % chunk_split) > 0 else 0)"
   ]
  },
  {
   "cell_type": "code",
   "execution_count": 18,
   "id": "9f83c82c",
   "metadata": {},
   "outputs": [],
   "source": [
    "def create_circuits(n_circuits):\n",
    "    \n",
    "    circuits = []\n",
    "\n",
    "    for i in range(n_circuits):\n",
    "        circuits.append(base_circuit.copy())\n",
    "        \n",
    "    return circuits\n",
    "\n",
    "def split_str(s):\n",
    "    \n",
    "    array = [ch for ch in s]\n",
    "    \n",
    "    return array\n",
    "\n",
    "def rework_result_count(counts):\n",
    "\n",
    "    result_value = list(counts.keys())\n",
    "    \n",
    "    reverse_val = result_value[0][::-1]\n",
    "    \n",
    "    return reverse_val\n",
    "    \n",
    "def apply_gate(circuit, row):\n",
    "    \n",
    "    zeros = np.where(row == 0)\n",
    "    zeros = zeros[0]\n",
    "\n",
    "    circuit.barrier()\n",
    "    \n",
    "    if np.size(zeros) > 0:\n",
    "        circuit.x(zeros.tolist())\n",
    "    else:\n",
    "        circuit.id(list(range(n_qubits)))\n",
    "        \n",
    "    circuit.measure(range(n_qubits), range(n_qubits))\n",
    "    \n",
    "    return circuit\n",
    "\n",
    "final_array = []\n",
    "\n",
    "for item in binary_data_array:\n",
    "\n",
    "    row_value = ''\n",
    "    \n",
    "    step = 0\n",
    "        \n",
    "    circ_copy = create_circuits(splitting)\n",
    "\n",
    "    for circuit in circ_copy: \n",
    "\n",
    "        temp_step = step + chunk_split\n",
    "        long_step = temp_step\n",
    "        \n",
    "        if long_step >= row_items:\n",
    "            \n",
    "            long_step = row_items\n",
    "\n",
    "        chunk = item[step:long_step]\n",
    "        \n",
    "        apply_circuit = apply_gate(circuit, chunk)\n",
    "\n",
    "        sim_counts = execute(circuit, backend=qasm_sim, shots=1).result().get_counts()\n",
    "\n",
    "        row_value = row_value + rework_result_count(sim_counts)\n",
    "        \n",
    "        if temp_step >= row_items:\n",
    "            \n",
    "            diff = temp_step - row_items\n",
    "            \n",
    "            row_value = row_value[:-diff]\n",
    "\n",
    "        else:\n",
    "            \n",
    "            step = step + chunk_split\n",
    "\n",
    "    array_row = split_str(row_value)\n",
    "\n",
    "    final_array.append(array_row)\n",
    "\n",
    "rework_data = np.array(final_array, dtype='uint8')"
   ]
  },
  {
   "cell_type": "code",
   "execution_count": 19,
   "id": "6ce6e0cb",
   "metadata": {},
   "outputs": [
    {
     "data": {
      "text/plain": [
       "(64, 64)"
      ]
     },
     "execution_count": 19,
     "metadata": {},
     "output_type": "execute_result"
    }
   ],
   "source": [
    "rework_data.shape"
   ]
  },
  {
   "cell_type": "code",
   "execution_count": 20,
   "id": "3e2c0d8d",
   "metadata": {},
   "outputs": [
    {
     "data": {
      "image/png": "[encoded data removed]",
      "text/plain": [
       "<PIL.Image.Image image mode=L size=64x64 at 0x7F5A22EED040>"
      ]
     },
     "execution_count": 20,
     "metadata": {},
     "output_type": "execute_result"
    }
   ],
   "source": [
    "rebuild_data = qi.rebuild_binary_array(rework_data)\n",
    "qi.image_from_array(rebuild_data)"
   ]
  },
  {
   "cell_type": "code",
   "execution_count": 21,
   "id": "54efe337",
   "metadata": {},
   "outputs": [
    {
     "data": {
      "image/png": "[encoded data removed]",
      "text/plain": [
       "<PIL.Image.Image image mode=L size=448x448 at 0x7F5A22EED2B0>"
      ]
     },
     "execution_count": 21,
     "metadata": {},
     "output_type": "execute_result"
    }
   ],
   "source": [
    "scaled_image = qi.scale_binary_image(rebuild_data, 7)\n",
    "qi.image_from_array(scaled_image)"
   ]
  },
  {
   "cell_type": "code",
   "execution_count": null,
   "id": "ac6b6302",
   "metadata": {},
   "outputs": [],
   "source": []
  }
 ],
 "metadata": {
  "kernelspec": {
   "display_name": "Python 3",
   "language": "python",
   "name": "python3"
  },
  "language_info": {
   "codemirror_mode": {
    "name": "ipython",
    "version": 3
   },
   "file_extension": ".py",
   "mimetype": "text/x-python",
   "name": "python",
   "nbconvert_exporter": "python",
   "pygments_lexer": "ipython3",
   "version": "3.8.2"
  }
 },
 "nbformat": 4,
 "nbformat_minor": 5
}
