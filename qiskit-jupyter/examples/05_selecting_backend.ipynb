{
 "cells": [
  {
   "cell_type": "markdown",
   "metadata": {},
   "source": [
    "### QISkit Example 05: Selecting a Backend\n",
    "* Qconfig.py\n",
    "* Set up the API token\n",
    "* Know the available backends\n",
    "* Execute a job using IBM cloud hosted simulator"
   ]
  },
  {
   "cell_type": "code",
   "execution_count": 1,
   "metadata": {},
   "outputs": [],
   "source": [
    "# Creating quantum circuits\n",
    "from qiskit import QuantumRegister, QuantumCircuit, ClassicalRegister\n",
    "from qiskit import execute\n",
    "from qiskit.tools.visualization import circuit_drawer, plot_histogram\n",
    "\n",
    "qr =  QuantumRegister(1)\n",
    "cr = ClassicalRegister(1)\n",
    "qc = QuantumCircuit(qr, cr)"
   ]
  },
  {
   "cell_type": "code",
   "execution_count": 2,
   "metadata": {},
   "outputs": [
    {
     "data": {
      "text/html": [
       "<pre style=\"word-wrap: normal;white-space: pre;background: #fff0;line-height: 1.1;font-family: &quot;Courier New&quot;,Courier,monospace\">      ┌───┐┌─┐\n",
       "q0_0: ┤ H ├┤M├\n",
       "      └───┘└╥┘\n",
       "c0_0: ══════╩═\n",
       "              </pre>"
      ],
      "text/plain": [
       "      ┌───┐┌─┐\n",
       "q0_0: ┤ H ├┤M├\n",
       "      └───┘└╥┘\n",
       "c0_0: ══════╩═\n",
       "              "
      ]
     },
     "execution_count": 2,
     "metadata": {},
     "output_type": "execute_result"
    }
   ],
   "source": [
    "# Apply a single H gate\n",
    "qc.h(qr)\n",
    "qc.measure(qr, cr)\n",
    "circuit_drawer(qc)"
   ]
  },
  {
   "cell_type": "code",
   "execution_count": 3,
   "metadata": {},
   "outputs": [
    {
     "name": "stdout",
     "output_type": "stream",
     "text": [
      "Local simulator backends: \n"
     ]
    },
    {
     "data": {
      "text/plain": [
       "[<QasmSimulator('qasm_simulator') from AerProvider()>,\n",
       " <StatevectorSimulator('statevector_simulator') from AerProvider()>,\n",
       " <UnitarySimulator('unitary_simulator') from AerProvider()>,\n",
       " <PulseSimulator('pulse_simulator') from AerProvider()>]"
      ]
     },
     "execution_count": 3,
     "metadata": {},
     "output_type": "execute_result"
    }
   ],
   "source": [
    "import os\n",
    "from qiskit import Aer\n",
    "\n",
    "# Print the local simulator backends\n",
    "print(\"Local simulator backends: \")\n",
    "Aer.backends()"
   ]
  },
  {
   "cell_type": "code",
   "execution_count": 4,
   "metadata": {},
   "outputs": [
    {
     "name": "stderr",
     "output_type": "stream",
     "text": [
      "/home/nsathaye/anaconda3.6/lib/python3.6/site-packages/qiskit/backends/ibmq/ibmqprovider.py:141: UserWarning: Credentials are already stored.\n",
      "  warnings.warn('Credentials are already stored.')\n",
      "Automatic discovery of qconfig credentials failed: 'Error loading Qconfig.py: Please set up a valid API access token. See Qconfig.py.'\n"
     ]
    },
    {
     "name": "stdout",
     "output_type": "stream",
     "text": [
      "Available online backends: \n"
     ]
    },
    {
     "data": {
      "text/plain": [
       "[<IBMQBackend('ibmqx4') from IBMQ()>,\n",
       " <IBMQBackend('ibmqx5') from IBMQ()>,\n",
       " <IBMQBackend('ibmqx2') from IBMQ()>,\n",
       " <IBMQBackend('ibmq_16_melbourne') from IBMQ()>,\n",
       " <IBMQBackend('ibmq_qasm_simulator') from IBMQ()>]"
      ]
     },
     "execution_count": 4,
     "metadata": {},
     "output_type": "execute_result"
    }
   ],
   "source": [
    "from qiskit import IBMQ\n",
    "\n",
    "# Save your credeintials on disk. Need to be done only once. \n",
    "IBMQ.save_account(os.getenv('QISKIT_API_TOKEN'))\n",
    "#IBMQ.save_account(\"PUT_YOUR_API_TOKEN_HERE\") \n",
    "\n",
    "# Alternatively, you can only \"enable\" the credentials, for this session only:\n",
    "# IBMQ.enable_account(\"PUT_YOUR_API_TOKEN_HERE\")\n",
    "\n",
    "IBMQ.load_accounts()\n",
    "\n",
    "print(\"Available online backends: \")\n",
    "IBMQ.backends()"
   ]
  },
  {
   "cell_type": "code",
   "execution_count": 5,
   "metadata": {},
   "outputs": [
    {
     "data": {
      "image/png": "[encoded data removed]",
      "text/plain": [
       "<Figure size 432x288 with 1 Axes>"
      ]
     },
     "metadata": {},
     "output_type": "display_data"
    },
    {
     "name": "stdout",
     "output_type": "stream",
     "text": [
      "{'0': 53, '1': 47}\n"
     ]
    }
   ],
   "source": [
    "# Run the circuit using local simulator \n",
    "local_simulator = Aer.get_backend(\"qasm_simulator\")\n",
    "job = execute(qc, backend=local_simulator, shots=100)\n",
    "\n",
    "result = job.result()\n",
    "counts = result.get_counts()\n",
    "print(counts)\n",
    "plot_histogram(counts)"
   ]
  },
  {
   "cell_type": "code",
   "execution_count": 6,
   "metadata": {},
   "outputs": [
    {
     "data": {
      "image/png": "[encoded data removed]",
      "text/plain": [
       "<Figure size 432x288 with 1 Axes>"
      ]
     },
     "metadata": {},
     "output_type": "display_data"
    },
    {
     "name": "stdout",
     "output_type": "stream",
     "text": [
      "{'0': 53, '1': 47}\n"
     ]
    }
   ],
   "source": [
    "# Run the circuit using the cloud simulator\n",
    "online_simulator = IBMQ.get_backend(\"ibmq_qasm_simulator\")\n",
    "job = execute(qc, backend=online_simulator)\n",
    "\n",
    "result_cloud = job.result()\n",
    "counts = result.get_counts()\n",
    "print(counts)\n",
    "plot_histogram(counts)"
   ]
  }
 ],
 "metadata": {
  "kernelspec": {
   "display_name": "Python 3",
   "language": "python",
   "name": "python3"
  },
  "language_info": {
   "codemirror_mode": {
    "name": "ipython",
    "version": 3
   },
   "file_extension": ".py",
   "mimetype": "text/x-python",
   "name": "python",
   "nbconvert_exporter": "python",
   "pygments_lexer": "ipython3",
   "version": "3.8.2"
  }
 },
 "nbformat": 4,
 "nbformat_minor": 2
}
